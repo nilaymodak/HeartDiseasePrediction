{
 "cells": [
  {
   "cell_type": "markdown",
   "id": "20e38e37",
   "metadata": {},
   "source": [
    "# Heart Disease Prediction\n",
    "\n",
    "This data contains information on patients. We have to classify whether they have heart disease or not according to the features in it. For this example we are using the logistic regression example."
   ]
  },
  {
   "cell_type": "code",
   "execution_count": 1,
   "id": "6d7a3c05",
   "metadata": {},
   "outputs": [],
   "source": [
    "#Importing the libraries\n",
    "\n",
    "import pandas as pd\n",
    "import numpy as np\n",
    "import matplotlib.pyplot as plt\n",
    "import seaborn as sns\n",
    "\n",
    "from sklearn.model_selection import train_test_split"
   ]
  },
  {
   "cell_type": "code",
   "execution_count": 2,
   "id": "73e671d6",
   "metadata": {},
   "outputs": [
    {
     "data": {
      "text/html": [
       "<div>\n",
       "<style scoped>\n",
       "    .dataframe tbody tr th:only-of-type {\n",
       "        vertical-align: middle;\n",
       "    }\n",
       "\n",
       "    .dataframe tbody tr th {\n",
       "        vertical-align: top;\n",
       "    }\n",
       "\n",
       "    .dataframe thead th {\n",
       "        text-align: right;\n",
       "    }\n",
       "</style>\n",
       "<table border=\"1\" class=\"dataframe\">\n",
       "  <thead>\n",
       "    <tr style=\"text-align: right;\">\n",
       "      <th></th>\n",
       "      <th>age</th>\n",
       "      <th>sex</th>\n",
       "      <th>cp</th>\n",
       "      <th>trestbps</th>\n",
       "      <th>chol</th>\n",
       "      <th>fbs</th>\n",
       "      <th>restecg</th>\n",
       "      <th>thalach</th>\n",
       "      <th>exang</th>\n",
       "      <th>oldpeak</th>\n",
       "      <th>slope</th>\n",
       "      <th>ca</th>\n",
       "      <th>thal</th>\n",
       "      <th>target</th>\n",
       "    </tr>\n",
       "  </thead>\n",
       "  <tbody>\n",
       "    <tr>\n",
       "      <th>0</th>\n",
       "      <td>52</td>\n",
       "      <td>1</td>\n",
       "      <td>0</td>\n",
       "      <td>125</td>\n",
       "      <td>212</td>\n",
       "      <td>0</td>\n",
       "      <td>1</td>\n",
       "      <td>168</td>\n",
       "      <td>0</td>\n",
       "      <td>1.0</td>\n",
       "      <td>2</td>\n",
       "      <td>2</td>\n",
       "      <td>0</td>\n",
       "      <td>0</td>\n",
       "    </tr>\n",
       "    <tr>\n",
       "      <th>1</th>\n",
       "      <td>53</td>\n",
       "      <td>1</td>\n",
       "      <td>0</td>\n",
       "      <td>140</td>\n",
       "      <td>203</td>\n",
       "      <td>1</td>\n",
       "      <td>0</td>\n",
       "      <td>155</td>\n",
       "      <td>1</td>\n",
       "      <td>3.1</td>\n",
       "      <td>0</td>\n",
       "      <td>0</td>\n",
       "      <td>0</td>\n",
       "      <td>0</td>\n",
       "    </tr>\n",
       "    <tr>\n",
       "      <th>2</th>\n",
       "      <td>70</td>\n",
       "      <td>1</td>\n",
       "      <td>0</td>\n",
       "      <td>145</td>\n",
       "      <td>174</td>\n",
       "      <td>0</td>\n",
       "      <td>1</td>\n",
       "      <td>125</td>\n",
       "      <td>1</td>\n",
       "      <td>2.6</td>\n",
       "      <td>0</td>\n",
       "      <td>0</td>\n",
       "      <td>0</td>\n",
       "      <td>0</td>\n",
       "    </tr>\n",
       "    <tr>\n",
       "      <th>3</th>\n",
       "      <td>61</td>\n",
       "      <td>1</td>\n",
       "      <td>0</td>\n",
       "      <td>148</td>\n",
       "      <td>203</td>\n",
       "      <td>0</td>\n",
       "      <td>1</td>\n",
       "      <td>161</td>\n",
       "      <td>0</td>\n",
       "      <td>0.0</td>\n",
       "      <td>2</td>\n",
       "      <td>1</td>\n",
       "      <td>0</td>\n",
       "      <td>0</td>\n",
       "    </tr>\n",
       "    <tr>\n",
       "      <th>4</th>\n",
       "      <td>62</td>\n",
       "      <td>0</td>\n",
       "      <td>0</td>\n",
       "      <td>138</td>\n",
       "      <td>294</td>\n",
       "      <td>1</td>\n",
       "      <td>1</td>\n",
       "      <td>106</td>\n",
       "      <td>0</td>\n",
       "      <td>1.9</td>\n",
       "      <td>1</td>\n",
       "      <td>3</td>\n",
       "      <td>2</td>\n",
       "      <td>0</td>\n",
       "    </tr>\n",
       "  </tbody>\n",
       "</table>\n",
       "</div>"
      ],
      "text/plain": [
       "   age  sex  cp  trestbps  chol  fbs  restecg  thalach  exang  oldpeak  slope  \\\n",
       "0   52    1   0       125   212    0        1      168      0      1.0      2   \n",
       "1   53    1   0       140   203    1        0      155      1      3.1      0   \n",
       "2   70    1   0       145   174    0        1      125      1      2.6      0   \n",
       "3   61    1   0       148   203    0        1      161      0      0.0      2   \n",
       "4   62    0   0       138   294    1        1      106      0      1.9      1   \n",
       "\n",
       "   ca  thal  target  \n",
       "0   2     0       0  \n",
       "1   0     0       0  \n",
       "2   0     0       0  \n",
       "3   1     0       0  \n",
       "4   3     2       0  "
      ]
     },
     "execution_count": 2,
     "metadata": {},
     "output_type": "execute_result"
    }
   ],
   "source": [
    "#Reading from our file\n",
    "\n",
    "df = pd.read_csv('heart.csv')\n",
    "df.head()"
   ]
  },
  {
   "cell_type": "markdown",
   "id": "232a08fa",
   "metadata": {},
   "source": [
    "# Details of variables:\n",
    "\n",
    "This data contains 13 features and 1 target variable('target').\n",
    "\n",
    "The information about features is given below:\n",
    "There are 13 attributes\n",
    "\n",
    "    age: age in years\n",
    "    sex: sex (1 = male; 0 = female)\n",
    "    cp: chest pain type\n",
    "    -- Value 0: typical angina\n",
    "    -- Value 1: atypical angina\n",
    "    -- Value 2: non-anginal pain\n",
    "    -- Value 3: asymptomatic\n",
    "    trestbps: resting blood pressure (in mm Hg on admission to the hospital)\n",
    "    chol: serum cholestoral in mg/dl\n",
    "    fbs: (fasting blood sugar > 120 mg/dl) (1 = true; 0 = false)\n",
    "    restecg: resting electrocardiographic results\n",
    "    -- Value 0: normal\n",
    "    -- Value 1: having ST-T wave abnormality (T wave inversions and/or ST elevation or depression of > 0.05 mV)\n",
    "    -- Value 2: showing probable or definite left ventricular hypertrophy by Estes' criteria\n",
    "    thalach: maximum heart rate achieved\n",
    "    exang: exercise induced angina (1 = yes; 0 = no)\n",
    "    oldpeak = ST depression induced by exercise relative to rest\n",
    "    slope: the slope of the peak exercise ST segment\n",
    "    -- Value 0: upsloping\n",
    "    -- Value 1: flat\n",
    "    -- Value 2: downsloping\n",
    "    ca: number of major vessels (0-3) colored by flourosopy\n",
    "    thal: 0 = normal; 1 = fixed defect; 2 = reversable defect\n",
    "    and the label\n",
    "    condition: 0 = no disease, 1 = disease\n",
    "\n",
    "\n",
    "\n",
    "## Target Variable:\n",
    "target: have disease(1=yes, 0=no)"
   ]
  },
  {
   "cell_type": "markdown",
   "id": "50738520",
   "metadata": {},
   "source": [
    "## Section 1: Exploratory Data Analysis"
   ]
  },
  {
   "cell_type": "markdown",
   "id": "c0357f53",
   "metadata": {},
   "source": [
    "### Searching for outliers"
   ]
  },
  {
   "cell_type": "code",
   "execution_count": 3,
   "id": "58230323",
   "metadata": {},
   "outputs": [
    {
     "data": {
      "text/html": [
       "<div>\n",
       "<style scoped>\n",
       "    .dataframe tbody tr th:only-of-type {\n",
       "        vertical-align: middle;\n",
       "    }\n",
       "\n",
       "    .dataframe tbody tr th {\n",
       "        vertical-align: top;\n",
       "    }\n",
       "\n",
       "    .dataframe thead th {\n",
       "        text-align: right;\n",
       "    }\n",
       "</style>\n",
       "<table border=\"1\" class=\"dataframe\">\n",
       "  <thead>\n",
       "    <tr style=\"text-align: right;\">\n",
       "      <th></th>\n",
       "      <th>age</th>\n",
       "      <th>sex</th>\n",
       "      <th>cp</th>\n",
       "      <th>trestbps</th>\n",
       "      <th>chol</th>\n",
       "      <th>fbs</th>\n",
       "      <th>restecg</th>\n",
       "      <th>thalach</th>\n",
       "      <th>exang</th>\n",
       "      <th>oldpeak</th>\n",
       "      <th>slope</th>\n",
       "      <th>ca</th>\n",
       "      <th>thal</th>\n",
       "      <th>target</th>\n",
       "    </tr>\n",
       "  </thead>\n",
       "  <tbody>\n",
       "    <tr>\n",
       "      <th>count</th>\n",
       "      <td>1025.000000</td>\n",
       "      <td>1025.000000</td>\n",
       "      <td>1025.000000</td>\n",
       "      <td>1025.000000</td>\n",
       "      <td>1025.00000</td>\n",
       "      <td>1025.000000</td>\n",
       "      <td>1025.000000</td>\n",
       "      <td>1025.000000</td>\n",
       "      <td>1025.000000</td>\n",
       "      <td>1025.000000</td>\n",
       "      <td>1025.000000</td>\n",
       "      <td>1025.000000</td>\n",
       "      <td>1025.000000</td>\n",
       "      <td>1025.000000</td>\n",
       "    </tr>\n",
       "    <tr>\n",
       "      <th>mean</th>\n",
       "      <td>54.434146</td>\n",
       "      <td>0.695610</td>\n",
       "      <td>0.942439</td>\n",
       "      <td>131.611707</td>\n",
       "      <td>246.00000</td>\n",
       "      <td>0.149268</td>\n",
       "      <td>0.529756</td>\n",
       "      <td>149.114146</td>\n",
       "      <td>0.336585</td>\n",
       "      <td>1.071512</td>\n",
       "      <td>1.385366</td>\n",
       "      <td>0.754146</td>\n",
       "      <td>1.123902</td>\n",
       "      <td>0.513171</td>\n",
       "    </tr>\n",
       "    <tr>\n",
       "      <th>std</th>\n",
       "      <td>9.072290</td>\n",
       "      <td>0.460373</td>\n",
       "      <td>1.029641</td>\n",
       "      <td>17.516718</td>\n",
       "      <td>51.59251</td>\n",
       "      <td>0.356527</td>\n",
       "      <td>0.527878</td>\n",
       "      <td>23.005724</td>\n",
       "      <td>0.472772</td>\n",
       "      <td>1.175053</td>\n",
       "      <td>0.617755</td>\n",
       "      <td>1.030798</td>\n",
       "      <td>0.960786</td>\n",
       "      <td>0.500070</td>\n",
       "    </tr>\n",
       "    <tr>\n",
       "      <th>min</th>\n",
       "      <td>29.000000</td>\n",
       "      <td>0.000000</td>\n",
       "      <td>0.000000</td>\n",
       "      <td>94.000000</td>\n",
       "      <td>126.00000</td>\n",
       "      <td>0.000000</td>\n",
       "      <td>0.000000</td>\n",
       "      <td>71.000000</td>\n",
       "      <td>0.000000</td>\n",
       "      <td>0.000000</td>\n",
       "      <td>0.000000</td>\n",
       "      <td>0.000000</td>\n",
       "      <td>0.000000</td>\n",
       "      <td>0.000000</td>\n",
       "    </tr>\n",
       "    <tr>\n",
       "      <th>25%</th>\n",
       "      <td>48.000000</td>\n",
       "      <td>0.000000</td>\n",
       "      <td>0.000000</td>\n",
       "      <td>120.000000</td>\n",
       "      <td>211.00000</td>\n",
       "      <td>0.000000</td>\n",
       "      <td>0.000000</td>\n",
       "      <td>132.000000</td>\n",
       "      <td>0.000000</td>\n",
       "      <td>0.000000</td>\n",
       "      <td>1.000000</td>\n",
       "      <td>0.000000</td>\n",
       "      <td>0.000000</td>\n",
       "      <td>0.000000</td>\n",
       "    </tr>\n",
       "    <tr>\n",
       "      <th>50%</th>\n",
       "      <td>56.000000</td>\n",
       "      <td>1.000000</td>\n",
       "      <td>1.000000</td>\n",
       "      <td>130.000000</td>\n",
       "      <td>240.00000</td>\n",
       "      <td>0.000000</td>\n",
       "      <td>1.000000</td>\n",
       "      <td>152.000000</td>\n",
       "      <td>0.000000</td>\n",
       "      <td>0.800000</td>\n",
       "      <td>1.000000</td>\n",
       "      <td>0.000000</td>\n",
       "      <td>2.000000</td>\n",
       "      <td>1.000000</td>\n",
       "    </tr>\n",
       "    <tr>\n",
       "      <th>75%</th>\n",
       "      <td>61.000000</td>\n",
       "      <td>1.000000</td>\n",
       "      <td>2.000000</td>\n",
       "      <td>140.000000</td>\n",
       "      <td>275.00000</td>\n",
       "      <td>0.000000</td>\n",
       "      <td>1.000000</td>\n",
       "      <td>166.000000</td>\n",
       "      <td>1.000000</td>\n",
       "      <td>1.800000</td>\n",
       "      <td>2.000000</td>\n",
       "      <td>1.000000</td>\n",
       "      <td>2.000000</td>\n",
       "      <td>1.000000</td>\n",
       "    </tr>\n",
       "    <tr>\n",
       "      <th>max</th>\n",
       "      <td>77.000000</td>\n",
       "      <td>1.000000</td>\n",
       "      <td>3.000000</td>\n",
       "      <td>200.000000</td>\n",
       "      <td>564.00000</td>\n",
       "      <td>1.000000</td>\n",
       "      <td>2.000000</td>\n",
       "      <td>202.000000</td>\n",
       "      <td>1.000000</td>\n",
       "      <td>6.200000</td>\n",
       "      <td>2.000000</td>\n",
       "      <td>4.000000</td>\n",
       "      <td>2.000000</td>\n",
       "      <td>1.000000</td>\n",
       "    </tr>\n",
       "  </tbody>\n",
       "</table>\n",
       "</div>"
      ],
      "text/plain": [
       "               age          sex           cp     trestbps        chol  \\\n",
       "count  1025.000000  1025.000000  1025.000000  1025.000000  1025.00000   \n",
       "mean     54.434146     0.695610     0.942439   131.611707   246.00000   \n",
       "std       9.072290     0.460373     1.029641    17.516718    51.59251   \n",
       "min      29.000000     0.000000     0.000000    94.000000   126.00000   \n",
       "25%      48.000000     0.000000     0.000000   120.000000   211.00000   \n",
       "50%      56.000000     1.000000     1.000000   130.000000   240.00000   \n",
       "75%      61.000000     1.000000     2.000000   140.000000   275.00000   \n",
       "max      77.000000     1.000000     3.000000   200.000000   564.00000   \n",
       "\n",
       "               fbs      restecg      thalach        exang      oldpeak  \\\n",
       "count  1025.000000  1025.000000  1025.000000  1025.000000  1025.000000   \n",
       "mean      0.149268     0.529756   149.114146     0.336585     1.071512   \n",
       "std       0.356527     0.527878    23.005724     0.472772     1.175053   \n",
       "min       0.000000     0.000000    71.000000     0.000000     0.000000   \n",
       "25%       0.000000     0.000000   132.000000     0.000000     0.000000   \n",
       "50%       0.000000     1.000000   152.000000     0.000000     0.800000   \n",
       "75%       0.000000     1.000000   166.000000     1.000000     1.800000   \n",
       "max       1.000000     2.000000   202.000000     1.000000     6.200000   \n",
       "\n",
       "             slope           ca         thal       target  \n",
       "count  1025.000000  1025.000000  1025.000000  1025.000000  \n",
       "mean      1.385366     0.754146     1.123902     0.513171  \n",
       "std       0.617755     1.030798     0.960786     0.500070  \n",
       "min       0.000000     0.000000     0.000000     0.000000  \n",
       "25%       1.000000     0.000000     0.000000     0.000000  \n",
       "50%       1.000000     0.000000     2.000000     1.000000  \n",
       "75%       2.000000     1.000000     2.000000     1.000000  \n",
       "max       2.000000     4.000000     2.000000     1.000000  "
      ]
     },
     "execution_count": 3,
     "metadata": {},
     "output_type": "execute_result"
    }
   ],
   "source": [
    "df.describe()"
   ]
  },
  {
   "cell_type": "markdown",
   "id": "20344ed5",
   "metadata": {},
   "source": [
    "Here we can see that we have 303 records in total. The variables chol might have outlier. It could be a natural outlier. Let's check with a few plots."
   ]
  },
  {
   "cell_type": "code",
   "execution_count": 4,
   "id": "78c291a0",
   "metadata": {},
   "outputs": [
    {
     "data": {
      "text/plain": [
       "<AxesSubplot:xlabel='chol'>"
      ]
     },
     "execution_count": 4,
     "metadata": {},
     "output_type": "execute_result"
    },
    {
     "data": {
      "image/png": "[encoded data removed]",
      "text/plain": [
       "<Figure size 432x288 with 1 Axes>"
      ]
     },
     "metadata": {
      "needs_background": "light"
     },
     "output_type": "display_data"
    }
   ],
   "source": [
    "sns.boxplot(x = df['chol'])"
   ]
  },
  {
   "cell_type": "markdown",
   "id": "eee5082d",
   "metadata": {},
   "source": [
    "As we can see from the boxplot above, one of the entries an extremely high cholesterol level, which can affect our analysis."
   ]
  },
  {
   "cell_type": "code",
   "execution_count": 5,
   "id": "a0628e9b",
   "metadata": {},
   "outputs": [
    {
     "data": {
      "text/plain": [
       "<AxesSubplot:xlabel='chol', ylabel='Count'>"
      ]
     },
     "execution_count": 5,
     "metadata": {},
     "output_type": "execute_result"
    },
    {
     "data": {
      "image/png": "[encoded data removed]",
      "text/plain": [
       "<Figure size 432x288 with 1 Axes>"
      ]
     },
     "metadata": {
      "needs_background": "light"
     },
     "output_type": "display_data"
    }
   ],
   "source": [
    "sns.histplot(x = df['chol'])"
   ]
  },
  {
   "cell_type": "markdown",
   "id": "84619c89",
   "metadata": {},
   "source": [
    "The histogram shows the same finding. \n",
    "\n",
    "As we know, outliers are proven to shift the mean and standard deviation in the data. This can affect the analysis and impact our model as well.\n",
    "\n",
    "We need to either get rid of this record or fix the chol level to help our analysis better. I have decided not to get rid of the data. Even if I trim one outlier, new values can be considered as outliers. So to fix this, I'm going to replace outliers with the median value. From observing the above Histogram and Boxplot, I think 375 would be a good threshold value"
   ]
  },
  {
   "cell_type": "code",
   "execution_count": 6,
   "id": "585c9d9a",
   "metadata": {},
   "outputs": [
    {
     "data": {
      "text/plain": [
       "239.0"
      ]
     },
     "execution_count": 6,
     "metadata": {},
     "output_type": "execute_result"
    }
   ],
   "source": [
    "median = df.loc[df['chol']<375, 'chol'].median()\n",
    "median"
   ]
  },
  {
   "cell_type": "code",
   "execution_count": 7,
   "id": "6963580f",
   "metadata": {},
   "outputs": [
    {
     "data": {
      "text/plain": [
       "<AxesSubplot:xlabel='chol'>"
      ]
     },
     "execution_count": 7,
     "metadata": {},
     "output_type": "execute_result"
    },
    {
     "data": {
      "image/png": "[encoded data removed]",
      "text/plain": [
       "<Figure size 432x288 with 1 Axes>"
      ]
     },
     "metadata": {
      "needs_background": "light"
     },
     "output_type": "display_data"
    }
   ],
   "source": [
    "#Replacing the \n",
    "df['chol'] = np.where(df['chol']>375, median, df['chol'])\n",
    "\n",
    "sns.boxplot(x=df['chol'])"
   ]
  },
  {
   "cell_type": "markdown",
   "id": "4929b162",
   "metadata": {},
   "source": [
    "As we can see from the above boxplot, we have successfully replaced the outlier values with median values."
   ]
  },
  {
   "cell_type": "code",
   "execution_count": 8,
   "id": "ecaca54d",
   "metadata": {},
   "outputs": [
    {
     "data": {
      "text/plain": [
       "age         False\n",
       "sex         False\n",
       "cp          False\n",
       "trestbps    False\n",
       "chol        False\n",
       "fbs         False\n",
       "restecg     False\n",
       "thalach     False\n",
       "exang       False\n",
       "oldpeak     False\n",
       "slope       False\n",
       "ca          False\n",
       "thal        False\n",
       "target      False\n",
       "dtype: bool"
      ]
     },
     "execution_count": 8,
     "metadata": {},
     "output_type": "execute_result"
    }
   ],
   "source": [
    "#Checking for missing values\n",
    "df.isnull().any()"
   ]
  },
  {
   "cell_type": "markdown",
   "id": "b6a30aa9",
   "metadata": {},
   "source": [
    "No column has any null values. Now let's study the features a bit."
   ]
  },
  {
   "cell_type": "markdown",
   "id": "fa62f13a",
   "metadata": {},
   "source": [
    "I want to look closely at the age, sex, chestpain and the target variable and also get a quick glance at their relationships."
   ]
  },
  {
   "cell_type": "code",
   "execution_count": 9,
   "id": "20117d00",
   "metadata": {},
   "outputs": [
    {
     "data": {
      "text/plain": [
       "<AxesSubplot:xlabel='target', ylabel='count'>"
      ]
     },
     "execution_count": 9,
     "metadata": {},
     "output_type": "execute_result"
    },
    {
     "data": {
      "image/png": "[encoded data removed]",
      "text/plain": [
       "<Figure size 432x288 with 1 Axes>"
      ]
     },
     "metadata": {
      "needs_background": "light"
     },
     "output_type": "display_data"
    }
   ],
   "source": [
    "sns.countplot(data= df, x='target')"
   ]
  },
  {
   "cell_type": "code",
   "execution_count": 10,
   "id": "ac9e8803",
   "metadata": {},
   "outputs": [
    {
     "name": "stdout",
     "output_type": "stream",
     "text": [
      "Percentage of people without disease: 48.68%\n",
      "Percentage of people with disease: 51.32%\n"
     ]
    }
   ],
   "source": [
    "nodiseasecount = len(df[df['target'] == 0])\n",
    "diseasecount = len(df[df['target'] == 1])\n",
    "print(\"Percentage of people without disease: {:.2f}%\".format(nodiseasecount/(len(df.target))*100))\n",
    "print(\"Percentage of people with disease: {:.2f}%\".format(diseasecount/(len(df.target))*100))"
   ]
  },
  {
   "cell_type": "code",
   "execution_count": 11,
   "id": "02060c0b",
   "metadata": {},
   "outputs": [
    {
     "data": {
      "text/plain": [
       "Text(0.5, 0, 'Sex(0=female, 1=male)')"
      ]
     },
     "execution_count": 11,
     "metadata": {},
     "output_type": "execute_result"
    },
    {
     "data": {
      "image/png": "[encoded data removed]",
      "text/plain": [
       "<Figure size 432x288 with 1 Axes>"
      ]
     },
     "metadata": {
      "needs_background": "light"
     },
     "output_type": "display_data"
    }
   ],
   "source": [
    "sns.countplot(x = 'sex', data = df)\n",
    "plt.xlabel(\"Sex(0=female, 1=male)\")"
   ]
  },
  {
   "cell_type": "code",
   "execution_count": 12,
   "id": "b65e53aa",
   "metadata": {},
   "outputs": [
    {
     "name": "stdout",
     "output_type": "stream",
     "text": [
      "Percentage of males: 69.56%\n",
      "Percentage of females: 30.44%\n"
     ]
    }
   ],
   "source": [
    "malecount = len(df[df['sex']==1])\n",
    "femalecount = len(df[df['sex']==0])\n",
    "\n",
    "print(\"Percentage of males: {:.2f}%\".format((malecount/len(df.sex)*100)))\n",
    "print(\"Percentage of females: {:.2f}%\".format((femalecount/len(df.sex)*100)))"
   ]
  },
  {
   "cell_type": "markdown",
   "id": "24aa06f9",
   "metadata": {},
   "source": [
    "### No of people having disease divided by sex"
   ]
  },
  {
   "cell_type": "code",
   "execution_count": 13,
   "id": "0a49f6d5",
   "metadata": {},
   "outputs": [
    {
     "data": {
      "text/html": [
       "<div>\n",
       "<style scoped>\n",
       "    .dataframe tbody tr th:only-of-type {\n",
       "        vertical-align: middle;\n",
       "    }\n",
       "\n",
       "    .dataframe tbody tr th {\n",
       "        vertical-align: top;\n",
       "    }\n",
       "\n",
       "    .dataframe thead th {\n",
       "        text-align: right;\n",
       "    }\n",
       "</style>\n",
       "<table border=\"1\" class=\"dataframe\">\n",
       "  <thead>\n",
       "    <tr style=\"text-align: right;\">\n",
       "      <th></th>\n",
       "      <th>age</th>\n",
       "      <th>cp</th>\n",
       "      <th>trestbps</th>\n",
       "      <th>chol</th>\n",
       "      <th>fbs</th>\n",
       "      <th>restecg</th>\n",
       "      <th>thalach</th>\n",
       "      <th>exang</th>\n",
       "      <th>oldpeak</th>\n",
       "      <th>slope</th>\n",
       "      <th>ca</th>\n",
       "      <th>thal</th>\n",
       "      <th>target</th>\n",
       "    </tr>\n",
       "    <tr>\n",
       "      <th>sex</th>\n",
       "      <th></th>\n",
       "      <th></th>\n",
       "      <th></th>\n",
       "      <th></th>\n",
       "      <th></th>\n",
       "      <th></th>\n",
       "      <th></th>\n",
       "      <th></th>\n",
       "      <th></th>\n",
       "      <th></th>\n",
       "      <th></th>\n",
       "      <th></th>\n",
       "      <th></th>\n",
       "    </tr>\n",
       "  </thead>\n",
       "  <tbody>\n",
       "    <tr>\n",
       "      <th>0</th>\n",
       "      <td>226</td>\n",
       "      <td>226</td>\n",
       "      <td>226</td>\n",
       "      <td>226</td>\n",
       "      <td>226</td>\n",
       "      <td>226</td>\n",
       "      <td>226</td>\n",
       "      <td>226</td>\n",
       "      <td>226</td>\n",
       "      <td>226</td>\n",
       "      <td>226</td>\n",
       "      <td>226</td>\n",
       "      <td>226</td>\n",
       "    </tr>\n",
       "    <tr>\n",
       "      <th>1</th>\n",
       "      <td>300</td>\n",
       "      <td>300</td>\n",
       "      <td>300</td>\n",
       "      <td>300</td>\n",
       "      <td>300</td>\n",
       "      <td>300</td>\n",
       "      <td>300</td>\n",
       "      <td>300</td>\n",
       "      <td>300</td>\n",
       "      <td>300</td>\n",
       "      <td>300</td>\n",
       "      <td>300</td>\n",
       "      <td>300</td>\n",
       "    </tr>\n",
       "  </tbody>\n",
       "</table>\n",
       "</div>"
      ],
      "text/plain": [
       "     age   cp  trestbps  chol  fbs  restecg  thalach  exang  oldpeak  slope  \\\n",
       "sex                                                                           \n",
       "0    226  226       226   226  226      226      226    226      226    226   \n",
       "1    300  300       300   300  300      300      300    300      300    300   \n",
       "\n",
       "      ca  thal  target  \n",
       "sex                     \n",
       "0    226   226     226  \n",
       "1    300   300     300  "
      ]
     },
     "execution_count": 13,
     "metadata": {},
     "output_type": "execute_result"
    }
   ],
   "source": [
    "df[df['target']==1].groupby('sex').count()"
   ]
  },
  {
   "cell_type": "code",
   "execution_count": 14,
   "id": "f9d07486",
   "metadata": {},
   "outputs": [
    {
     "data": {
      "text/plain": [
       "<matplotlib.legend.Legend at 0x1a96ac40d30>"
      ]
     },
     "execution_count": 14,
     "metadata": {},
     "output_type": "execute_result"
    },
    {
     "data": {
      "image/png": "[encoded data removed]",
      "text/plain": [
       "<Figure size 432x288 with 1 Axes>"
      ]
     },
     "metadata": {
      "needs_background": "light"
     },
     "output_type": "display_data"
    }
   ],
   "source": [
    "pd.crosstab(df.sex,df.target).plot(kind='bar', color = ['#52ADEB','#AA1111'])\n",
    "# #1CA53B is RBG Hex Code for Blue and #AA1111 is RGB hex code for red.\n",
    "plt.title('Heart disease yes/no count grouped by Sex')\n",
    "plt.xticks(rotation=0)\n",
    "plt.xlabel(\"Sex(female=0, male=1)\")\n",
    "plt.ylabel('Count')\n",
    "plt.legend(['Without Disease', 'With Disease'])"
   ]
  },
  {
   "cell_type": "markdown",
   "id": "603a9e11",
   "metadata": {},
   "source": [
    "### Chest Pain Analysis"
   ]
  },
  {
   "cell_type": "code",
   "execution_count": 15,
   "id": "5aab6d4f",
   "metadata": {},
   "outputs": [
    {
     "data": {
      "text/plain": [
       "<AxesSubplot:xlabel='cp', ylabel='Count'>"
      ]
     },
     "execution_count": 15,
     "metadata": {},
     "output_type": "execute_result"
    },
    {
     "data": {
      "image/png": "[encoded data removed]",
      "text/plain": [
       "<Figure size 432x288 with 1 Axes>"
      ]
     },
     "metadata": {
      "needs_background": "light"
     },
     "output_type": "display_data"
    }
   ],
   "source": [
    "sns.histplot(x = df['cp'], bins=[0,1,2,3,4])"
   ]
  },
  {
   "cell_type": "code",
   "execution_count": 16,
   "id": "fe892d3d",
   "metadata": {},
   "outputs": [
    {
     "data": {
      "text/plain": [
       "<matplotlib.legend.Legend at 0x1a96abb8a60>"
      ]
     },
     "execution_count": 16,
     "metadata": {},
     "output_type": "execute_result"
    },
    {
     "data": {
      "image/png": "[encoded data removed]",
      "text/plain": [
       "<Figure size 1080x432 with 1 Axes>"
      ]
     },
     "metadata": {
      "needs_background": "light"
     },
     "output_type": "display_data"
    }
   ],
   "source": [
    "pd.crosstab(df.cp, df.target).plot(kind='bar', figsize=(15,6), color = ['#52ADEB','#AA1111'])\n",
    "plt.title(\"Heart disease grouped by Chest pain\")\n",
    "plt.xticks(ticks=[0,1,2,3], rotation=0, labels = ['0-Typical Pain','1-Atypical Pain', '2-Non Anginal Pain', '3-Asymptomatic'])\n",
    "plt.xlabel(\"Chest Pain\")\n",
    "plt.ylabel('Count/Frequency')\n",
    "plt.legend(['Without Disease','With Disease'])"
   ]
  },
  {
   "cell_type": "markdown",
   "id": "873ef50e",
   "metadata": {},
   "source": [
    "### Checking heart disease freq by age"
   ]
  },
  {
   "cell_type": "code",
   "execution_count": 17,
   "id": "02713692",
   "metadata": {},
   "outputs": [
    {
     "data": {
      "text/plain": [
       "<matplotlib.legend.Legend at 0x1a96abc5460>"
      ]
     },
     "execution_count": 17,
     "metadata": {},
     "output_type": "execute_result"
    },
    {
     "data": {
      "image/png": "[encoded data removed]",
      "text/plain": [
       "<Figure size 1440x432 with 1 Axes>"
      ]
     },
     "metadata": {
      "needs_background": "light"
     },
     "output_type": "display_data"
    }
   ],
   "source": [
    "pd.crosstab(df.age,df.target).plot(kind='bar',figsize = (20,6),color=['#52ADEB','#AA1111'])\n",
    "plt.title('Heart disease frequency by age')\n",
    "plt.xlabel('Age')\n",
    "plt.ylabel('Count/Frequency')\n",
    "plt.legend(['Without Disease','With Disease'])"
   ]
  },
  {
   "cell_type": "markdown",
   "id": "56c91d16",
   "metadata": {},
   "source": [
    "### Scatter plot of Maximum heart rate(thalach) vs Age"
   ]
  },
  {
   "cell_type": "code",
   "execution_count": 18,
   "id": "5b976870",
   "metadata": {},
   "outputs": [
    {
     "data": {
      "text/plain": [
       "<matplotlib.legend.Legend at 0x1a96ad17370>"
      ]
     },
     "execution_count": 18,
     "metadata": {},
     "output_type": "execute_result"
    },
    {
     "data": {
      "image/png": "[encoded data removed]",
      "text/plain": [
       "<Figure size 432x288 with 1 Axes>"
      ]
     },
     "metadata": {
      "needs_background": "light"
     },
     "output_type": "display_data"
    }
   ],
   "source": [
    "plt.scatter(x = df.age[df['target']==1], y =df.thalach[df['target']==1], c='#AA1111')\n",
    "plt.scatter(x = df.age[df.target==0], y=df.thalach[df.target==0],c = '#52ADEB')\n",
    "plt.xlabel('Age')\n",
    "plt.ylabel('Maximum Heart Rate')\n",
    "plt.legend(['With Disease','Without Disease'])"
   ]
  },
  {
   "cell_type": "markdown",
   "id": "880efbb0",
   "metadata": {},
   "source": [
    "One clear trend which we can see is that as Age increases, maximum heart rate decreases"
   ]
  },
  {
   "cell_type": "markdown",
   "id": "ab699864",
   "metadata": {},
   "source": [
    "## Section 2: Data Transformation"
   ]
  },
  {
   "cell_type": "code",
   "execution_count": 19,
   "id": "8e489e2b",
   "metadata": {},
   "outputs": [],
   "source": [
    "y = df.target.values\n",
    "x = df.drop(['target'],axis=1)"
   ]
  },
  {
   "cell_type": "code",
   "execution_count": 49,
   "id": "8f0438d7",
   "metadata": {},
   "outputs": [
    {
     "data": {
      "text/plain": [
       "ExtraTreesRegressor()"
      ]
     },
     "execution_count": 49,
     "metadata": {},
     "output_type": "execute_result"
    }
   ],
   "source": [
    "from sklearn.ensemble import ExtraTreesClassifier\n",
    "model = ExtraTreesRegressor()\n",
    "model.fit(x,y)"
   ]
  },
  {
   "cell_type": "code",
   "execution_count": 50,
   "id": "8e7b716c",
   "metadata": {},
   "outputs": [
    {
     "data": {
      "image/png": "[encoded data removed]",
      "text/plain": [
       "<Figure size 432x288 with 1 Axes>"
      ]
     },
     "metadata": {},
     "output_type": "display_data"
    }
   ],
   "source": [
    "feat_imp = pd.Series(model.feature_importances_, index = x.columns)\n",
    "feat_imp.nlargest(5).plot(kind='barh')\n",
    "plt.show()"
   ]
  },
  {
   "cell_type": "markdown",
   "id": "477585c6",
   "metadata": {},
   "source": [
    "### Splitting the data 80-20"
   ]
  },
  {
   "cell_type": "code",
   "execution_count": 22,
   "id": "218cdf34",
   "metadata": {},
   "outputs": [],
   "source": [
    "x_train, x_test, y_train, y_test = train_test_split(x,y,test_size = 0.2, random_state=0)"
   ]
  },
  {
   "cell_type": "markdown",
   "id": "9a31d7f1",
   "metadata": {},
   "source": [
    "### Scaling the data"
   ]
  },
  {
   "cell_type": "code",
   "execution_count": 23,
   "id": "28f578a9",
   "metadata": {},
   "outputs": [],
   "source": [
    "from sklearn.preprocessing import MinMaxScaler\n",
    "\n",
    "scaler = MinMaxScaler()\n",
    "scaler.fit(x_train)\n",
    "\n",
    "x_train_scaled = scaler.transform(x_train)\n",
    "x_test_scaled = scaler.transform(x_test)"
   ]
  },
  {
   "cell_type": "code",
   "execution_count": 24,
   "id": "e26e35a2",
   "metadata": {},
   "outputs": [],
   "source": [
    "# Creating a dictionary to keep track of test accuract scores\n",
    "accuracy = {}"
   ]
  },
  {
   "cell_type": "markdown",
   "id": "27a63ab9",
   "metadata": {},
   "source": [
    "## Section 3: Creating Models"
   ]
  },
  {
   "cell_type": "markdown",
   "id": "f02a6118",
   "metadata": {},
   "source": [
    "Firstly, let's divide our data into 2 parts, feature set and target(x and y)"
   ]
  },
  {
   "cell_type": "code",
   "execution_count": 25,
   "id": "f7041250",
   "metadata": {},
   "outputs": [],
   "source": [
    "from sklearn.metrics import accuracy_score"
   ]
  },
  {
   "cell_type": "markdown",
   "id": "555062aa",
   "metadata": {},
   "source": [
    "## Logistic Regression"
   ]
  },
  {
   "cell_type": "code",
   "execution_count": 26,
   "id": "8185204d",
   "metadata": {},
   "outputs": [
    {
     "data": {
      "text/plain": [
       "(820, 13)"
      ]
     },
     "execution_count": 26,
     "metadata": {},
     "output_type": "execute_result"
    }
   ],
   "source": [
    "x_train.shape"
   ]
  },
  {
   "cell_type": "code",
   "execution_count": 27,
   "id": "8e85bb74",
   "metadata": {},
   "outputs": [
    {
     "data": {
      "text/plain": [
       "(205, 13)"
      ]
     },
     "execution_count": 27,
     "metadata": {},
     "output_type": "execute_result"
    }
   ],
   "source": [
    "x_test.shape"
   ]
  },
  {
   "cell_type": "code",
   "execution_count": 28,
   "id": "6c818646",
   "metadata": {},
   "outputs": [
    {
     "name": "stdout",
     "output_type": "stream",
     "text": [
      "Test accuracy 87.80%\n"
     ]
    }
   ],
   "source": [
    "from sklearn.linear_model import LogisticRegression\n",
    "\n",
    "logReg = LogisticRegression()\n",
    "logReg.fit(x_train_scaled, y_train)\n",
    "y_logReg = logReg.predict(x_test_scaled)\n",
    "acc= logReg.score(x_test_scaled, y_test)*100\n",
    "\n",
    "accuracy['Logistic Regression'] = acc\n",
    "print(\"Test accuracy {:.2f}%\".format(acc))"
   ]
  },
  {
   "cell_type": "markdown",
   "id": "7df97223",
   "metadata": {},
   "source": [
    "## K- Nearest Neighbor(KNN) Classification"
   ]
  },
  {
   "cell_type": "code",
   "execution_count": 29,
   "id": "2a6ee11a",
   "metadata": {},
   "outputs": [
    {
     "name": "stdout",
     "output_type": "stream",
     "text": [
      "2 Nearest Neighbor Score: 99.02%\n"
     ]
    },
    {
     "data": {
      "text/plain": [
       "{'Logistic Regression': 87.8048780487805,\n",
       " 'KNN Classification': 99.02439024390245}"
      ]
     },
     "execution_count": 29,
     "metadata": {},
     "output_type": "execute_result"
    }
   ],
   "source": [
    "from sklearn.neighbors import KNeighborsClassifier\n",
    "\n",
    "knn = KNeighborsClassifier(n_neighbors = 2)\n",
    "knn.fit(x_train_scaled, y_train)\n",
    "y_knn = knn.predict(x_test_scaled)\n",
    "acc = knn.score(x_test_scaled,y_test)*100\n",
    "\n",
    "accuracy['KNN Classification'] = acc\n",
    "print(\"2 Nearest Neighbor Score: {:.2f}%\".format(acc))\n",
    "accuracy"
   ]
  },
  {
   "cell_type": "markdown",
   "id": "b1377495",
   "metadata": {},
   "source": [
    "## Support Vector Machine Classification(SVC)"
   ]
  },
  {
   "cell_type": "code",
   "execution_count": 30,
   "id": "7db8708e",
   "metadata": {},
   "outputs": [
    {
     "name": "stdout",
     "output_type": "stream",
     "text": [
      "Support Vector Classification Score: 91.22%\n"
     ]
    },
    {
     "data": {
      "text/plain": [
       "{'Logistic Regression': 87.8048780487805,\n",
       " 'KNN Classification': 99.02439024390245,\n",
       " 'Support Vector Classification': 91.21951219512195}"
      ]
     },
     "execution_count": 30,
     "metadata": {},
     "output_type": "execute_result"
    }
   ],
   "source": [
    "from sklearn.svm import SVC\n",
    "\n",
    "svm = SVC(random_state=1)\n",
    "svm.fit(x_train_scaled, y_train)\n",
    "y_svm = svm.predict(x_test_scaled)\n",
    "acc = svm.score(x_test_scaled, y_test)*100\n",
    "\n",
    "accuracy['Support Vector Classification'] = acc\n",
    "print(\"Support Vector Classification Score: {:.2f}%\".format(acc))\n",
    "accuracy"
   ]
  },
  {
   "cell_type": "markdown",
   "id": "31474ab2",
   "metadata": {},
   "source": [
    "## Naive Bayes Classification"
   ]
  },
  {
   "cell_type": "code",
   "execution_count": 31,
   "id": "20816ef9",
   "metadata": {},
   "outputs": [
    {
     "name": "stdout",
     "output_type": "stream",
     "text": [
      "Naive Bayes Classfication Score: 87.80%\n"
     ]
    },
    {
     "data": {
      "text/plain": [
       "{'Logistic Regression': 87.8048780487805,\n",
       " 'KNN Classification': 99.02439024390245,\n",
       " 'Support Vector Classification': 91.21951219512195,\n",
       " 'Naive Bayes Classification': 87.8048780487805}"
      ]
     },
     "execution_count": 31,
     "metadata": {},
     "output_type": "execute_result"
    }
   ],
   "source": [
    "from sklearn.naive_bayes import GaussianNB\n",
    "\n",
    "nb = GaussianNB()\n",
    "nb.fit(x_train_scaled, y_train)\n",
    "y_nb = nb.predict(x_test_scaled)\n",
    "acc = nb.score(x_test_scaled, y_test)*100\n",
    "\n",
    "accuracy['Naive Bayes Classification'] = acc\n",
    "print(\"Naive Bayes Classfication Score: {:.2f}%\".format(acc))\n",
    "accuracy"
   ]
  },
  {
   "cell_type": "markdown",
   "id": "308667ce",
   "metadata": {},
   "source": [
    "## Decision Tree Classification"
   ]
  },
  {
   "cell_type": "code",
   "execution_count": 32,
   "id": "926b9334",
   "metadata": {},
   "outputs": [
    {
     "name": "stdout",
     "output_type": "stream",
     "text": [
      "Decision Tree Classification Score: 100.00%\n"
     ]
    },
    {
     "data": {
      "text/plain": [
       "{'Logistic Regression': 87.8048780487805,\n",
       " 'KNN Classification': 99.02439024390245,\n",
       " 'Support Vector Classification': 91.21951219512195,\n",
       " 'Naive Bayes Classification': 87.8048780487805,\n",
       " 'Decision Tree Classification': 100.0}"
      ]
     },
     "execution_count": 32,
     "metadata": {},
     "output_type": "execute_result"
    }
   ],
   "source": [
    "from sklearn.tree import DecisionTreeClassifier\n",
    "\n",
    "dt = DecisionTreeClassifier()\n",
    "dt.fit(x_train_scaled, y_train)\n",
    "y_dt = dt.predict(x_test_scaled)\n",
    "acc = dt.score(x_test_scaled, y_test)*100\n",
    "\n",
    "accuracy['Decision Tree Classification'] = acc\n",
    "print(\"Decision Tree Classification Score: {:.2f}%\".format(acc))\n",
    "accuracy"
   ]
  },
  {
   "cell_type": "markdown",
   "id": "f474c546",
   "metadata": {},
   "source": [
    "## Random Forest Classification"
   ]
  },
  {
   "cell_type": "code",
   "execution_count": 33,
   "id": "2888f6e6",
   "metadata": {},
   "outputs": [
    {
     "name": "stdout",
     "output_type": "stream",
     "text": [
      "Random Forest Classification Score: 100.00%\n"
     ]
    },
    {
     "data": {
      "text/plain": [
       "{'Logistic Regression': 87.8048780487805,\n",
       " 'KNN Classification': 99.02439024390245,\n",
       " 'Support Vector Classification': 91.21951219512195,\n",
       " 'Naive Bayes Classification': 87.8048780487805,\n",
       " 'Decision Tree Classification': 100.0,\n",
       " 'Random Forest Classification': 100.0}"
      ]
     },
     "execution_count": 33,
     "metadata": {},
     "output_type": "execute_result"
    }
   ],
   "source": [
    "from sklearn.ensemble import RandomForestClassifier\n",
    "\n",
    "rf = RandomForestClassifier(n_estimators = 1000, random_state=1)\n",
    "rf.fit(x_train_scaled, y_train)\n",
    "y_rf = rf.predict(x_test_scaled)\n",
    "acc = rf.score(x_test_scaled, y_test)*100\n",
    "\n",
    "accuracy['Random Forest Classification'] = acc\n",
    "print(\"Random Forest Classification Score: {:.2f}%\".format(acc))\n",
    "accuracy"
   ]
  },
  {
   "cell_type": "markdown",
   "id": "e8ae21a7",
   "metadata": {},
   "source": [
    "## Section 4: Scoring and Accuracy"
   ]
  },
  {
   "cell_type": "code",
   "execution_count": 34,
   "id": "5d812211",
   "metadata": {},
   "outputs": [
    {
     "data": {
      "image/png": "[encoded data removed]",
      "text/plain": [
       "<Figure size 720x432 with 1 Axes>"
      ]
     },
     "metadata": {},
     "output_type": "display_data"
    }
   ],
   "source": [
    "colors = ['violet', 'blue', 'green', 'yellow', 'orange', 'red']\n",
    "\n",
    "sns.set_style('whitegrid')\n",
    "plt.figure(figsize = (10,6))\n",
    "plt.yticks(np.arange(0,100,10))\n",
    "plt.xlabel('Classification Algorithms')\n",
    "plt.ylabel('Accuracy Scores %')\n",
    "sns.barplot(x = list(accuracy.values()), \n",
    "            y = list(accuracy.keys()), \n",
    "            palette = colors,\n",
    "            orient = 'h')\n",
    "\n",
    "for index,data in enumerate(list(accuracy.values())):\n",
    "    plt.text(x= data+0.5 , y =index , s=f\"{data:.2f}%\" , fontdict=dict(fontsize=12))\n",
    "plt.show()"
   ]
  },
  {
   "cell_type": "markdown",
   "id": "e0f9cfec",
   "metadata": {},
   "source": [
    "As seen above, Random Forest Classification and Decision Tree Classification both have 100% accuracy followed by KNN Classification which has 99.02% accuracy"
   ]
  },
  {
   "cell_type": "markdown",
   "id": "cc1c3c40",
   "metadata": {},
   "source": [
    "### Storing Predictions"
   ]
  },
  {
   "cell_type": "code",
   "execution_count": 35,
   "id": "29bfcebb",
   "metadata": {},
   "outputs": [],
   "source": [
    "from sklearn.metrics import confusion_matrix\n",
    "\n",
    "cm_logReg = confusion_matrix(y_test, y_logReg)\n",
    "cm_knn = confusion_matrix(y_test, y_knn)\n",
    "cm_svm = confusion_matrix(y_test, y_svm)\n",
    "cm_nb = confusion_matrix(y_test, y_nb)\n",
    "cm_dt = confusion_matrix(y_test, y_dt)\n",
    "cm_rf = confusion_matrix(y_test, y_rf)"
   ]
  },
  {
   "cell_type": "code",
   "execution_count": 36,
   "id": "3bc46852",
   "metadata": {
    "scrolled": true
   },
   "outputs": [
    {
     "data": {
      "text/plain": [
       "<AxesSubplot:title={'center':'Random Forest Confusion Matrix'}>"
      ]
     },
     "execution_count": 36,
     "metadata": {},
     "output_type": "execute_result"
    },
    {
     "data": {
      "image/png": "[encoded data removed]",
      "text/plain": [
       "<Figure size 1296x864 with 6 Axes>"
      ]
     },
     "metadata": {},
     "output_type": "display_data"
    }
   ],
   "source": [
    "plt.figure(figsize=(18,12))\n",
    "font = {'size': 20}\n",
    "plt.suptitle(\"Confusion Matrices\", fontsize=24)\n",
    "plt.subplots_adjust(wspace = 0.4, hspace=0.4)\n",
    "\n",
    "\n",
    "plt.subplot(2,3,1)\n",
    "plt.title(\"Logistic Regression Confusion Matrix\", fontdict = font)\n",
    "sns.heatmap(cm_logReg, annot = True, fmt='d', cbar=False, annot_kws = {'size':24})\n",
    "\n",
    "plt.subplot(2,3,2)\n",
    "plt.title(\"K Nearest Neighbor Confusion Matrix\", fontdict = font)\n",
    "sns.heatmap(cm_knn, annot = True, fmt='d', cbar=False, annot_kws = {'size':24})\n",
    "\n",
    "plt.subplot(2,3,3)\n",
    "plt.title(\"Support Vector Machine Confusion Matrix\", fontdict = font)\n",
    "sns.heatmap(cm_svm, annot = True, fmt='d', cbar=False, annot_kws = {'size':24})\n",
    "\n",
    "plt.subplot(2,3,4)\n",
    "plt.title(label= \"Naive Bayes Confusion Matrix\", fontdict = font)\n",
    "sns.heatmap(cm_nb, annot = True, fmt='d', cbar=False, annot_kws = {'size':24})\n",
    "\n",
    "plt.subplot(2,3,5)\n",
    "plt.title(\"Decision Tree Confusion Matrix\", fontdict = font)\n",
    "sns.heatmap(cm_dt, annot = True, fmt='d', cbar=False, annot_kws = {'size':24})\n",
    "\n",
    "plt.subplot(2,3,6)\n",
    "plt.title(\"Random Forest Confusion Matrix\", fontdict = font)\n",
    "sns.heatmap(cm_rf, annot = True, fmt='d', cbar=False, annot_kws = {'size':24})"
   ]
  },
  {
   "cell_type": "markdown",
   "id": "38105a24",
   "metadata": {},
   "source": [
    "As decision tree models are prone to overfitting at times, I will go ahead with Random Forest Classification model."
   ]
  },
  {
   "cell_type": "code",
   "execution_count": 37,
   "id": "c471ac07",
   "metadata": {},
   "outputs": [],
   "source": [
    "#Saving the model and the scaler\n",
    "\n",
    "from pickle import dump\n",
    "\n",
    "dump(rf,open('RandomForestClassifier.pkl','wb'))\n",
    "dump(scaler, open('minmaxscaler.pkl','wb'))"
   ]
  },
  {
   "cell_type": "code",
   "execution_count": 44,
   "id": "ad7317c6",
   "metadata": {},
   "outputs": [
    {
     "data": {
      "text/html": [
       "<div>\n",
       "<style scoped>\n",
       "    .dataframe tbody tr th:only-of-type {\n",
       "        vertical-align: middle;\n",
       "    }\n",
       "\n",
       "    .dataframe tbody tr th {\n",
       "        vertical-align: top;\n",
       "    }\n",
       "\n",
       "    .dataframe thead th {\n",
       "        text-align: right;\n",
       "    }\n",
       "</style>\n",
       "<table border=\"1\" class=\"dataframe\">\n",
       "  <thead>\n",
       "    <tr style=\"text-align: right;\">\n",
       "      <th></th>\n",
       "      <th>column</th>\n",
       "      <th>importance</th>\n",
       "    </tr>\n",
       "  </thead>\n",
       "  <tbody>\n",
       "    <tr>\n",
       "      <th>0</th>\n",
       "      <td>age</td>\n",
       "      <td>0.090853</td>\n",
       "    </tr>\n",
       "    <tr>\n",
       "      <th>1</th>\n",
       "      <td>sex</td>\n",
       "      <td>0.034942</td>\n",
       "    </tr>\n",
       "    <tr>\n",
       "      <th>2</th>\n",
       "      <td>cp</td>\n",
       "      <td>0.136462</td>\n",
       "    </tr>\n",
       "    <tr>\n",
       "      <th>3</th>\n",
       "      <td>trestbps</td>\n",
       "      <td>0.070741</td>\n",
       "    </tr>\n",
       "    <tr>\n",
       "      <th>4</th>\n",
       "      <td>chol</td>\n",
       "      <td>0.086752</td>\n",
       "    </tr>\n",
       "    <tr>\n",
       "      <th>5</th>\n",
       "      <td>fbs</td>\n",
       "      <td>0.009150</td>\n",
       "    </tr>\n",
       "    <tr>\n",
       "      <th>6</th>\n",
       "      <td>restecg</td>\n",
       "      <td>0.018946</td>\n",
       "    </tr>\n",
       "    <tr>\n",
       "      <th>7</th>\n",
       "      <td>thalach</td>\n",
       "      <td>0.112776</td>\n",
       "    </tr>\n",
       "    <tr>\n",
       "      <th>8</th>\n",
       "      <td>exang</td>\n",
       "      <td>0.054003</td>\n",
       "    </tr>\n",
       "    <tr>\n",
       "      <th>9</th>\n",
       "      <td>oldpeak</td>\n",
       "      <td>0.106988</td>\n",
       "    </tr>\n",
       "    <tr>\n",
       "      <th>10</th>\n",
       "      <td>slope</td>\n",
       "      <td>0.041342</td>\n",
       "    </tr>\n",
       "    <tr>\n",
       "      <th>11</th>\n",
       "      <td>ca</td>\n",
       "      <td>0.117586</td>\n",
       "    </tr>\n",
       "    <tr>\n",
       "      <th>12</th>\n",
       "      <td>thal</td>\n",
       "      <td>0.119460</td>\n",
       "    </tr>\n",
       "  </tbody>\n",
       "</table>\n",
       "</div>"
      ],
      "text/plain": [
       "      column  importance\n",
       "0        age    0.090853\n",
       "1        sex    0.034942\n",
       "2         cp    0.136462\n",
       "3   trestbps    0.070741\n",
       "4       chol    0.086752\n",
       "5        fbs    0.009150\n",
       "6    restecg    0.018946\n",
       "7    thalach    0.112776\n",
       "8      exang    0.054003\n",
       "9    oldpeak    0.106988\n",
       "10     slope    0.041342\n",
       "11        ca    0.117586\n",
       "12      thal    0.119460"
      ]
     },
     "execution_count": 44,
     "metadata": {},
     "output_type": "execute_result"
    }
   ],
   "source": [
    "clm_imp = pd.DataFrame({'column':x.columns, 'importance':rf.feature_importances_\n",
    "}, columns = ['column','importance'])\n",
    "\n",
    "clm_imp"
   ]
  },
  {
   "cell_type": "code",
   "execution_count": 48,
   "id": "9a6ad1bf",
   "metadata": {},
   "outputs": [
    {
     "data": {
      "text/plain": [
       "Text(0.5, 1.0, 'Feature importances acc to Random Forest')"
      ]
     },
     "execution_count": 48,
     "metadata": {},
     "output_type": "execute_result"
    },
    {
     "data": {
      "image/png": "[encoded data removed]",
      "text/plain": [
       "<Figure size 432x288 with 1 Axes>"
      ]
     },
     "metadata": {},
     "output_type": "display_data"
    }
   ],
   "source": [
    "sns.barplot(x = clm_imp.column, y = clm_imp.importance)\n",
    "plt.xticks(rotation=90)\n",
    "plt.title('Feature importances acc to Random Forest')"
   ]
  }
 ],
 "metadata": {
  "kernelspec": {
   "display_name": "Python 3 (ipykernel)",
   "language": "python",
   "name": "python3"
  },
  "language_info": {
   "codemirror_mode": {
    "name": "ipython",
    "version": 3
   },
   "file_extension": ".py",
   "mimetype": "text/x-python",
   "name": "python",
   "nbconvert_exporter": "python",
   "pygments_lexer": "ipython3",
   "version": "3.8.12"
  }
 },
 "nbformat": 4,
 "nbformat_minor": 5
}
